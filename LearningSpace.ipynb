{
 "cells": [
  {
   "cell_type": "code",
   "execution_count": 2,
   "metadata": {
    "collapsed": true
   },
   "outputs": [],
   "source": [
    "import numpy"
   ]
  },
  {
   "cell_type": "code",
   "execution_count": 3,
   "metadata": {},
   "outputs": [
    {
     "name": "stdout",
     "output_type": "stream",
     "text": [
      "[[ 0.  0.  0.]\n",
      " [ 0.  0.  0.]]\n"
     ]
    }
   ],
   "source": [
    "a = numpy.zeros([2,3])\n",
    "print(a)"
   ]
  },
  {
   "cell_type": "code",
   "execution_count": 4,
   "metadata": {},
   "outputs": [
    {
     "name": "stdout",
     "output_type": "stream",
     "text": [
      "[[ 0.  0.]\n",
      " [ 0.  0.]\n",
      " [ 0.  0.]]\n"
     ]
    }
   ],
   "source": [
    "a = numpy.zeros([3,2])\n",
    "print(a)"
   ]
  },
  {
   "cell_type": "code",
   "execution_count": 5,
   "metadata": {
    "collapsed": true
   },
   "outputs": [],
   "source": [
    "a[0,0] = 1\n",
    "a[0,1] = 2\n",
    "a[1,0] = 9\n",
    "a[2,1] = 12"
   ]
  },
  {
   "cell_type": "code",
   "execution_count": 6,
   "metadata": {},
   "outputs": [
    {
     "name": "stdout",
     "output_type": "stream",
     "text": [
      "[[  1.   2.]\n",
      " [  9.   0.]\n",
      " [  0.  12.]]\n"
     ]
    }
   ],
   "source": [
    "print(a)"
   ]
  },
  {
   "cell_type": "code",
   "execution_count": 7,
   "metadata": {},
   "outputs": [
    {
     "name": "stdout",
     "output_type": "stream",
     "text": [
      "2.0\n",
      "2.0\n"
     ]
    }
   ],
   "source": [
    "print(a[0,1])\n",
    "v = a[0,1]\n",
    "print(v)\n",
    "v = 10"
   ]
  },
  {
   "cell_type": "code",
   "execution_count": 8,
   "metadata": {},
   "outputs": [
    {
     "name": "stdout",
     "output_type": "stream",
     "text": [
      "10\n"
     ]
    }
   ],
   "source": [
    "print(v)"
   ]
  },
  {
   "cell_type": "code",
   "execution_count": 9,
   "metadata": {
    "collapsed": true
   },
   "outputs": [],
   "source": [
    "v = 2"
   ]
  },
  {
   "cell_type": "code",
   "execution_count": 10,
   "metadata": {},
   "outputs": [
    {
     "ename": "IndexError",
     "evalue": "index 2 is out of bounds for axis 1 with size 2",
     "output_type": "error",
     "traceback": [
      "\u001b[1;31m---------------------------------------------------------------------------\u001b[0m",
      "\u001b[1;31mIndexError\u001b[0m                                Traceback (most recent call last)",
      "\u001b[1;32m<ipython-input-10-e9c5245187b7>\u001b[0m in \u001b[0;36m<module>\u001b[1;34m()\u001b[0m\n\u001b[1;32m----> 1\u001b[1;33m \u001b[0ma\u001b[0m\u001b[1;33m[\u001b[0m\u001b[1;36m0\u001b[0m\u001b[1;33m,\u001b[0m\u001b[1;36m2\u001b[0m\u001b[1;33m]\u001b[0m\u001b[1;33m\u001b[0m\u001b[0m\n\u001b[0m",
      "\u001b[1;31mIndexError\u001b[0m: index 2 is out of bounds for axis 1 with size 2"
     ]
    }
   ],
   "source": [
    "a[0,2]"
   ]
  },
  {
   "cell_type": "code",
   "execution_count": 11,
   "metadata": {
    "collapsed": true
   },
   "outputs": [],
   "source": [
    "import matplotlib.pyplot"
   ]
  },
  {
   "cell_type": "code",
   "execution_count": 12,
   "metadata": {
    "collapsed": true
   },
   "outputs": [],
   "source": [
    "%matplotlib inline"
   ]
  },
  {
   "cell_type": "code",
   "execution_count": 13,
   "metadata": {},
   "outputs": [
    {
     "data": {
      "text/plain": [
       "<matplotlib.image.AxesImage at 0x2da0ca7748>"
      ]
     },
     "execution_count": 13,
     "metadata": {},
     "output_type": "execute_result"
    },
    {
     "data": {
      "image/png": "[encoded data removed]",
      "text/plain": [
       "<matplotlib.figure.Figure at 0x2d9f1b6fd0>"
      ]
     },
     "metadata": {},
     "output_type": "display_data"
    }
   ],
   "source": [
    "matplotlib.pyplot.imshow(a, interpolation=\"nearest\")"
   ]
  },
  {
   "cell_type": "code",
   "execution_count": 30,
   "metadata": {
    "collapsed": true
   },
   "outputs": [],
   "source": [
    "class Dog:\n",
    "    def __init__(self, petname, temp):\n",
    "        self.name = petname\n",
    "        self.temperature = temp\n",
    "    \n",
    "    def status(self):\n",
    "        print(\"dog name is\", self.name)\n",
    "        print(\"dog temperature is\", self.temperature)\n",
    "    \n",
    "    def setTemperature(self, temp):\n",
    "        self.temperature = temp\n",
    "    \n",
    "    def bark(self):\n",
    "        print(\"woof!\")"
   ]
  },
  {
   "cell_type": "code",
   "execution_count": 31,
   "metadata": {},
   "outputs": [
    {
     "name": "stdout",
     "output_type": "stream",
     "text": [
      "dog name is Kuma\n",
      "dog temperature is 20\n",
      "dog name is Kuma\n",
      "dog temperature is 30\n",
      "woof!\n"
     ]
    }
   ],
   "source": [
    "sizzles = Dog(\"Kuma\", 20)\n",
    "sizzles.status()\n",
    "sizzles.setTemperature(30)\n",
    "sizzles.status()\n",
    "sizzles.bark()"
   ]
  },
  {
   "cell_type": "code",
   "execution_count": 6,
   "metadata": {},
   "outputs": [
    {
     "name": "stdout",
     "output_type": "stream",
     "text": [
      "[[ 0.41558795  0.78571633  1.22707767]\n",
      " [-1.11395182 -0.80115185  0.85479944]\n",
      " [ 0.72929956 -0.30867024 -0.38975944]]\n",
      "\n",
      "[[ 0.41558795 -1.11395182  0.72929956]\n",
      " [ 0.78571633 -0.80115185 -0.30867024]\n",
      " [ 1.22707767  0.85479944 -0.38975944]]\n",
      "\n",
      "[[ 0.41558795 -1.11395182  0.72929956]\n",
      " [ 0.78571633 -0.80115185 -0.30867024]\n",
      " [ 1.22707767  0.85479944 -0.38975944]]\n"
     ]
    }
   ],
   "source": [
    "import numpy\n",
    "matrix = numpy.random.normal(0.0, pow(3, -0.5), (3, 3))\n",
    "print(matrix)\n",
    "print(\"\")\n",
    "print(matrix.T)\n",
    "print(\"\")\n",
    "print(numpy.transpose(matrix))"
   ]
  },
  {
   "cell_type": "code",
   "execution_count": 2,
   "metadata": {},
   "outputs": [
    {
     "name": "stdout",
     "output_type": "stream",
     "text": [
      "100\n",
      "5,0,0,0,0,0,0,0,0,0,0,0,0,0,0,0,0,0,0,0,0,0,0,0,0,0,0,0,0,0,0,0,0,0,0,0,0,0,0,0,0,0,0,0,0,0,0,0,0,0,0,0,0,0,0,0,0,0,0,0,0,0,0,0,0,0,0,0,0,0,0,0,0,0,0,0,0,0,0,0,0,0,0,0,0,0,0,0,0,0,0,0,0,0,0,0,0,0,0,0,0,0,0,0,0,0,0,0,0,0,0,0,0,0,0,0,0,0,0,0,0,0,0,0,0,0,0,0,0,0,0,0,0,0,0,0,0,0,0,0,0,0,0,0,0,0,0,0,0,0,0,0,0,3,18,18,18,126,136,175,26,166,255,247,127,0,0,0,0,0,0,0,0,0,0,0,0,30,36,94,154,170,253,253,253,253,253,225,172,253,242,195,64,0,0,0,0,0,0,0,0,0,0,0,49,238,253,253,253,253,253,253,253,253,251,93,82,82,56,39,0,0,0,0,0,0,0,0,0,0,0,0,18,219,253,253,253,253,253,198,182,247,241,0,0,0,0,0,0,0,0,0,0,0,0,0,0,0,0,0,0,80,156,107,253,253,205,11,0,43,154,0,0,0,0,0,0,0,0,0,0,0,0,0,0,0,0,0,0,0,14,1,154,253,90,0,0,0,0,0,0,0,0,0,0,0,0,0,0,0,0,0,0,0,0,0,0,0,0,0,139,253,190,2,0,0,0,0,0,0,0,0,0,0,0,0,0,0,0,0,0,0,0,0,0,0,0,0,11,190,253,70,0,0,0,0,0,0,0,0,0,0,0,0,0,0,0,0,0,0,0,0,0,0,0,0,0,35,241,225,160,108,1,0,0,0,0,0,0,0,0,0,0,0,0,0,0,0,0,0,0,0,0,0,0,0,81,240,253,253,119,25,0,0,0,0,0,0,0,0,0,0,0,0,0,0,0,0,0,0,0,0,0,0,0,45,186,253,253,150,27,0,0,0,0,0,0,0,0,0,0,0,0,0,0,0,0,0,0,0,0,0,0,0,16,93,252,253,187,0,0,0,0,0,0,0,0,0,0,0,0,0,0,0,0,0,0,0,0,0,0,0,0,0,249,253,249,64,0,0,0,0,0,0,0,0,0,0,0,0,0,0,0,0,0,0,0,0,0,46,130,183,253,253,207,2,0,0,0,0,0,0,0,0,0,0,0,0,0,0,0,0,0,0,0,39,148,229,253,253,253,250,182,0,0,0,0,0,0,0,0,0,0,0,0,0,0,0,0,0,0,24,114,221,253,253,253,253,201,78,0,0,0,0,0,0,0,0,0,0,0,0,0,0,0,0,0,23,66,213,253,253,253,253,198,81,2,0,0,0,0,0,0,0,0,0,0,0,0,0,0,0,0,18,171,219,253,253,253,253,195,80,9,0,0,0,0,0,0,0,0,0,0,0,0,0,0,0,0,55,172,226,253,253,253,253,244,133,11,0,0,0,0,0,0,0,0,0,0,0,0,0,0,0,0,0,0,136,253,253,253,212,135,132,16,0,0,0,0,0,0,0,0,0,0,0,0,0,0,0,0,0,0,0,0,0,0,0,0,0,0,0,0,0,0,0,0,0,0,0,0,0,0,0,0,0,0,0,0,0,0,0,0,0,0,0,0,0,0,0,0,0,0,0,0,0,0,0,0,0,0,0,0,0,0,0,0,0,0,0,0,0,0,0,0,0,0,0,0,0,0,0,0,0,0,0,0,0,0,0,0,0,0,0,0\n",
      "\n",
      "\n"
     ]
    },
    {
     "data": {
      "image/png": "[encoded data removed]",
      "text/plain": [
       "<matplotlib.figure.Figure at 0xecc489de48>"
      ]
     },
     "metadata": {},
     "output_type": "display_data"
    }
   ],
   "source": [
    "import numpy\n",
    "import matplotlib.pyplot\n",
    "%matplotlib inline\n",
    "\n",
    "data_file = open(\"mnist_dataset/mnist_train_100.csv\", \"r\")\n",
    "data_list = data_file.readlines()\n",
    "data_file.close()\n",
    "print(len(data_list))\n",
    "print(data_list[0])\n",
    "print(\"\")\n",
    "\n",
    "all_values = data_list[0].split(\",\")\n",
    "# numpy.asfarray takes a list of strings and converts them to a list of numbers\n",
    "image_array = numpy.asfarray(all_values[1:]).reshape((28, 28))\n",
    "matplotlib.pyplot.imshow(image_array, cmap=\"Greys\", interpolation=\"None\")\n",
    "\n",
    "scaled_inputs = (numpy.asfarray(all_values[1:]) / 255.0 * 0.99) + 0.01\n",
    "# print(scaled_inputs)"
   ]
  },
  {
   "cell_type": "code",
   "execution_count": 2,
   "metadata": {},
   "outputs": [
    {
     "name": "stdout",
     "output_type": "stream",
     "text": [
      "[[-0.09009813 -0.58976047  0.15306644 ...,  0.29657883  0.26390939\n",
      "  -0.04659514]\n",
      " [-0.41739121 -0.17359334  0.20909728 ...,  0.25228944 -0.36323232\n",
      "  -0.0139611 ]\n",
      " [ 0.19399439  0.29657751 -0.266577   ...,  0.01194475 -0.49394662\n",
      "  -0.16037768]\n",
      " ..., \n",
      " [-0.50391325 -0.24861184  0.078223   ...,  0.53148642  0.06492377\n",
      "   0.33579956]\n",
      " [-0.27643594 -0.12355411  0.33386461 ..., -0.3880115   0.6930535\n",
      "  -0.30689673]\n",
      " [ 0.05998334 -0.20055814  0.15123587 ...,  0.24234692 -0.02187773\n",
      "   0.00879535]]\n"
     ]
    }
   ],
   "source": [
    "import numpy\n",
    "print(numpy.genfromtxt(\"who.csv\", delimiter=\",\"))"
   ]
  },
  {
   "cell_type": "code",
   "execution_count": 9,
   "metadata": {},
   "outputs": [
    {
     "name": "stdout",
     "output_type": "stream",
     "text": [
      "[   0.    0.    0.    0.    0.    0.    0.    0.    0.    0.    0.    0.\n",
      "    0.    0.    0.    0.    0.    0.    0.    0.    0.    0.    0.    0.\n",
      "    0.    0.    0.    0.    0.    0.    0.    0.    0.    0.    0.    0.\n",
      "    1.    3.    4.    4.    3.    1.    0.    0.    0.    0.    0.    0.\n",
      "    0.    0.    0.    0.    0.    0.    0.    0.    0.    0.    0.    0.\n",
      "    0.    0.    0.    3.   17.   32.   37.   37.   33.   20.   14.   11.\n",
      "   10.    9.    7.    6.    6.    6.    6.    6.    4.    2.    0.    0.\n",
      "    0.    0.    0.    0.    0.    0.    2.   37.  110.  148.  152.  154.\n",
      "  149.  130.  121.  110.  106.   99.   80.   73.   73.   73.   73.   69.\n",
      "   52.   24.    6.    0.    0.    0.    0.    0.    0.    0.   12.  108.\n",
      "  223.  225.  222.  221.  223.  234.  234.  223.  221.  217.  196.  191.\n",
      "  190.  190.  190.  190.  174.  105.   26.    2.    0.    0.    0.    0.\n",
      "    0.    3.   38.  147.  220.  157.  112.  106.  110.  121.  130.  148.\n",
      "  153.  161.  186.  190.  190.  190.  192.  204.  229.  165.   45.    4.\n",
      "    0.    0.    0.    0.    1.   15.  101.  212.  164.   60.   14.   10.\n",
      "   11.   14.   20.   33.   37.   46.   66.   73.   73.   73.   75.   89.\n",
      "  112.   68.   16.    1.    0.    0.    0.    0.    3.   41.  153.  217.\n",
      "  113.   18.    1.    0.    0.    0.    1.    3.    4.    5.    7.    7.\n",
      "    7.    6.    6.    8.   11.    6.    1.    0.    0.    0.    0.    0.\n",
      "    7.   73.  191.  191.   76.    8.    0.    0.    0.    0.    0.    0.\n",
      "    0.    0.    0.    0.    0.    0.    0.    0.    0.    0.    0.    0.\n",
      "    0.    0.    0.    0.    9.   99.  217.  161.   47.    4.    0.    0.\n",
      "    0.    0.    0.    0.    0.    0.    0.    0.    0.    0.    0.    0.\n",
      "    0.    0.    0.    0.    0.    0.    0.    0.   10.  106.  221.  153.\n",
      "   37.    4.    0.    0.    0.    0.    0.    0.    0.    0.    0.    0.\n",
      "    0.    0.    0.    0.    0.    0.    0.    0.    0.    0.    0.    0.\n",
      "   12.  110.  223.  148.   33.    3.    0.    0.    0.    0.    0.    0.\n",
      "    0.    0.    0.    0.    0.    0.    0.    0.    0.    0.    0.    0.\n",
      "    0.    0.    0.    1.   19.  128.  232.  127.   19.    1.    0.    0.\n",
      "    0.    0.    0.    0.    0.    0.    0.    0.    0.    0.    0.    0.\n",
      "    0.    0.    0.    0.    0.    0.    0.    3.   41.  156.  220.  105.\n",
      "   12.    3.    6.    6.    6.    6.    5.    1.    0.    0.    0.    0.\n",
      "    0.    0.    0.    0.    0.    0.    0.    0.    0.    0.    0.    6.\n",
      "   66.  185.  196.   90.   25.   41.   66.   73.   73.   72.   61.   26.\n",
      "    8.    1.    0.    0.    0.    0.    0.    0.    0.    0.    0.    0.\n",
      "    0.    0.    0.    6.   73.  190.  199.  148.  133.  156.  185.  190.\n",
      "  190.  190.  181.  131.   74.   26.    3.    0.    0.    0.    0.    0.\n",
      "    0.    0.    0.    0.    0.    0.    0.    6.   72.  191.  215.  233.\n",
      "  236.  220.  196.  190.  190.  191.  199.  228.  189.  115.   37.    5.\n",
      "    0.    0.    0.    0.    0.    0.    0.    0.    0.    0.    0.    5.\n",
      "   59.  175.  204.  222.  162.  108.   81.   74.   73.   74.   86.  132.\n",
      "  187.  208.  134.   41.    4.    0.    0.    0.    0.    0.    0.    0.\n",
      "    0.    0.    0.    1.   18.   62.   85.   95.   43.   12.    8.    7.\n",
      "    8.    7.   10.   29.   86.  166.  225.  126.   26.    1.    0.    0.\n",
      "    0.    0.    0.    0.    0.    0.    0.    0.    1.    5.    8.    9.\n",
      "    3.    0.    0.    0.    0.    0.    0.    2.   21.   94.  196.  187.\n",
      "   67.    6.    0.    0.    0.    0.    0.    0.    0.    0.    0.    0.\n",
      "    0.    0.    0.    0.    0.    0.    0.    0.    0.    1.    3.    7.\n",
      "   20.   85.  181.  208.   82.    7.    0.    0.    0.    0.    0.    0.\n",
      "    0.    0.    0.    0.    0.    3.   10.   11.   10.   10.   10.   10.\n",
      "   11.   17.   40.   67.   97.  164.  224.  134.   34.    2.    0.    0.\n",
      "    0.    0.    0.    0.    0.    0.    0.    0.    3.   33.  100.  108.\n",
      "  107.  106.  106.  106.  107.  117.  154.  186.  194.  208.  134.   43.\n",
      "    5.    0.    0.    0.    0.    0.    0.    0.    0.    0.    0.    0.\n",
      "    8.   86.  223.  222.  221.  221.  221.  221.  221.  221.  217.  196.\n",
      "  180.  113.   37.    5.    0.    0.    0.    0.    0.    0.    0.    0.\n",
      "    0.    0.    0.    0.    3.   35.  111.  147.  153.  154.  154.  154.\n",
      "  153.  145.  110.   81.   62.   24.    3.    0.    0.    0.    0.    0.\n",
      "    0.    0.    0.    0.    0.    0.    0.    0.    0.    4.   17.   33.\n",
      "   37.   38.   38.   38.   37.   32.   16.    9.    5.    2.    0.    0.\n",
      "    0.    0.    0.    0.    0.    0.    0.    0.    0.    0.    0.    0.\n",
      "    0.    0.    1.    3.    4.    4.    4.    4.    4.    3.    1.    0.\n",
      "    0.    0.    0.    0.    0.    0.    0.    0.    0.    0.    0.    0.\n",
      "    0.    0.    0.    0.    0.    0.    0.    0.    0.    0.    0.    0.\n",
      "    0.    0.    0.    0.    0.    0.    0.    0.    0.    0.    0.    0.\n",
      "    0.    0.    0.    0.]\n"
     ]
    },
    {
     "data": {
      "image/png": "[encoded data removed]",
      "text/plain": [
       "<matplotlib.figure.Figure at 0x89a8051eb8>"
      ]
     },
     "metadata": {},
     "output_type": "display_data"
    }
   ],
   "source": [
    "import scipy.misc\n",
    "import numpy\n",
    "import matplotlib.pyplot\n",
    "%matplotlib inline\n",
    "\n",
    "img_array = scipy.misc.imread(\"mnist_dataset/MyTestImage.png\", flatten=True)\n",
    "\n",
    "img_data = 255.0 - img_array.reshape(784)\n",
    "matplotlib.pyplot.imshow(img_data.reshape((28,28)), cmap=\"Greys\", interpolation=\"None\")"
   ]
  },
  {
   "cell_type": "code",
   "execution_count": null,
   "metadata": {
    "collapsed": true
   },
   "outputs": [],
   "source": []
  }
 ],
 "metadata": {
  "kernelspec": {
   "display_name": "Python 3",
   "language": "python",
   "name": "python3"
  },
  "language_info": {
   "codemirror_mode": {
    "name": "ipython",
    "version": 3
   },
   "file_extension": ".py",
   "mimetype": "text/x-python",
   "name": "python",
   "nbconvert_exporter": "python",
   "pygments_lexer": "ipython3",
   "version": "3.6.1"
  }
 },
 "nbformat": 4,
 "nbformat_minor": 2
}
